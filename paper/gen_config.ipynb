{
 "cells": [
  {
   "cell_type": "code",
   "execution_count": 1,
   "metadata": {},
   "outputs": [],
   "source": [
    "import jax\n",
    "import jax.numpy as jnp\n",
    "from dataclasses import dataclass\n",
    "import inspeqtor as sq\n",
    "from qiskit_ibm_runtime.fake_provider import FakeJakartaV2\n",
    "from pathlib import Path\n",
    "import receipt_utils"
   ]
  },
  {
   "cell_type": "code",
   "execution_count": 2,
   "metadata": {},
   "outputs": [],
   "source": [
    "@dataclass\n",
    "class CompackConfig:\n",
    "    identifier: str\n",
    "    shots: int\n",
    "    sample_size: int\n",
    "    qubit_idx: int"
   ]
  },
  {
   "cell_type": "code",
   "execution_count": 3,
   "metadata": {},
   "outputs": [],
   "source": [
    "SHOTS = 3000\n",
    "SAMPLE_SIZE = 1000\n",
    "qubit_idx = 2\n",
    "test_cases = [\n",
    "    CompackConfig(identifier=\"q2\", shots=SHOTS, sample_size=SAMPLE_SIZE, qubit_idx=qubit_idx),\n",
    "]\n",
    "\n",
    "# INSTANCE = \"ibm_open/open_pulse/specq\"\n",
    "# backend = FakeJakartaV2()\n",
    "# service = None\n",
    "# BACKEND_NAME = backend.name\n",
    "\n",
    "INSTANCE = \"utokyo-kawasaki/keio-internal/keio-students\"\n",
    "# INSTANCE = \"ibm-q-utokyo/keio-internal/keio-students\"\n",
    "BACKEND_NAME = \"ibm_kawasaki\"\n",
    "# BACKEND_NAME = \"ibm_kyiv\"\n",
    "service, backend = sq.qiskit.get_ibm_service_and_backend(instance=INSTANCE, backend_name=BACKEND_NAME)\n",
    "\n",
    "qubit_indices = [test_case.qubit_idx for test_case in test_cases]\n",
    "\n",
    "backend_properties = sq.qiskit.IBMQDeviceProperties.from_backend(\n",
    "    backend=backend, qubit_indices=qubit_indices, service=service\n",
    ")\n",
    "\n",
    "# pulse_sequence = sq.utils.predefined.get_multi_drag_pulse_sequence_v2(drag_version=2)\n",
    "# pulse_sequence = sq.utils.predefined.get_multi_drag_pulse_sequence_v2(drag_version=2, min_beta=0.0, max_beta=0.0)\n",
    "pulse_sequence = sq.utils.predefined.get_multi_drag_pulse_sequence_v3()\n",
    "\n",
    "# Initialize configutations\n",
    "configs: list[sq.data.ExperimentConfiguration] = []\n",
    "for compact_config in test_cases:\n",
    "    config = sq.data.ExperimentConfiguration(\n",
    "        qubits=[backend_properties.qubit_informations[0]],\n",
    "        expectation_values_order=sq.constant.default_expectation_values_order,\n",
    "        parameter_names=pulse_sequence.get_parameter_names(),\n",
    "        backend_name=backend_properties.name,\n",
    "        shots=compact_config.shots,\n",
    "        EXPERIMENT_IDENTIFIER=compact_config.identifier,\n",
    "        EXPERIMENT_TAGS=[compact_config.identifier],\n",
    "        description=\"The experiment to test random drag sequence\",\n",
    "        device_cycle_time_ns=backend_properties.dt,\n",
    "        sequence_duration_dt=pulse_sequence.pulse_length_dt,\n",
    "        instance=INSTANCE,\n",
    "        sample_size=compact_config.sample_size,\n",
    "        additional_info={\n",
    "            \"MASTER_KEY_SEED\": compact_config.qubit_idx,\n",
    "            \"TARGET_GATE\": \"SX_v2\",\n",
    "        },\n",
    "    )\n",
    "    configs.append(config)\n",
    "\n",
    "# path = Path(f\"./0001_{BACKEND_NAME}_test\")\n",
    "path = Path(f\"./0005_{BACKEND_NAME}_paper_1_sx_v2\")\n",
    "# Save configurations and pulse sequence\n",
    "for config in configs:\n",
    "    config.to_file(path / f\"{config.EXPERIMENT_IDENTIFIER}\")\n",
    "    pulse_sequence.to_file(path / f\"{config.EXPERIMENT_IDENTIFIER}\")"
   ]
  },
  {
   "cell_type": "code",
   "execution_count": 4,
   "metadata": {},
   "outputs": [
    {
     "data": {
      "text/plain": [
       "'python receipt.py prepare-parallel-experiment 0005_ibm_kawasaki_paper_1_sx_v2/ && python receipt.py execute-parallel-experiment 0005_ibm_kawasaki_paper_1_sx_v2/'"
      ]
     },
     "execution_count": 4,
     "metadata": {},
     "output_type": "execute_result"
    }
   ],
   "source": [
    "receipt_utils.submit_experiment_command(\n",
    "    path\n",
    ")"
   ]
  },
  {
   "cell_type": "code",
   "execution_count": 10,
   "metadata": {},
   "outputs": [
    {
     "data": {
      "text/plain": [
       "'python receipt.py wait-for-jobs 0003_ibm_kawasaki_paper_1_sx_v2/ --wait-interval=600 && python receipt.py train-model 0003_ibm_kawasaki_paper_1_sx_v2/ && python receipt.py batch-benchmark-gate 0003_ibm_kawasaki_paper_1_sx_v2/q0/ 0003_ibm_kawasaki_paper_1_sx_v2/q0/ckpts/'"
      ]
     },
     "execution_count": 10,
     "metadata": {},
     "output_type": "execute_result"
    }
   ],
   "source": [
    "receipt_utils.analyze_experiment_command(\n",
    "    path\n",
    ")"
   ]
  },
  {
   "cell_type": "code",
   "execution_count": 5,
   "metadata": {},
   "outputs": [
    {
     "data": {
      "text/plain": [
       "'python receipt.py prepare-parallel-experiment 0001_fake_jakarta_test/ && python receipt.py execute-parallel-experiment 0001_fake_jakarta_test/ --wait && python receipt.py train-model 0001_fake_jakarta_test/'"
      ]
     },
     "execution_count": 5,
     "metadata": {},
     "output_type": "execute_result"
    }
   ],
   "source": [
    "receipt_utils.test_receipt_command(\n",
    "    path\n",
    ")"
   ]
  },
  {
   "cell_type": "markdown",
   "metadata": {},
   "source": []
  },
  {
   "cell_type": "code",
   "execution_count": 9,
   "metadata": {},
   "outputs": [
    {
     "name": "stdout",
     "output_type": "stream",
     "text": [
      "python receipt.py prepare-parallel-experiment 0004_ibm_kawasaki_paper_1_sx_v2 &&     python receipt.py execute-parallel-experiment 0004_ibm_kawasaki_paper_1_sx_v2\n"
     ]
    }
   ],
   "source": [
    "submit_command = f\"python receipt.py prepare-parallel-experiment {path} && \\\n",
    "    python receipt.py execute-parallel-experiment {path}\"\n",
    "\n",
    "retrive_command = f\"python receipt.py wait-for-jobs {path}/ --wait-interval=600 && \\\n",
    "    python receipt.py train-model {path} MAEF && \\\n",
    "    python receipt.py train-model {path} MSEE && \\\n",
    "    python receipt.py batch-benchmark-gate {path}/q{qubit_idx}/ {path}/q{qubit_idx}/ckpts/MAEF && \\\n",
    "    python receipt.py batch-benchmark-gate {path}/q{qubit_idx}/ {path}/q{qubit_idx}/ckpts/MSEE\"\n"
   ]
  },
  {
   "cell_type": "code",
   "execution_count": 10,
   "metadata": {},
   "outputs": [
    {
     "data": {
      "text/plain": [
       "'python receipt.py prepare-parallel-experiment 0004_ibm_kawasaki_paper_1_sx_v2 &&     python receipt.py execute-parallel-experiment 0004_ibm_kawasaki_paper_1_sx_v2'"
      ]
     },
     "execution_count": 10,
     "metadata": {},
     "output_type": "execute_result"
    }
   ],
   "source": [
    "submit_command"
   ]
  },
  {
   "cell_type": "code",
   "execution_count": 11,
   "metadata": {},
   "outputs": [
    {
     "data": {
      "text/plain": [
       "'python receipt.py wait-for-jobs 0004_ibm_kawasaki_paper_1_sx_v2/ --wait-interval=600 &&     python receipt.py train-model 0004_ibm_kawasaki_paper_1_sx_v2 MAEF &&     python receipt.py train-model 0004_ibm_kawasaki_paper_1_sx_v2 MSEE &&     python receipt.py batch-benchmark-gate 0004_ibm_kawasaki_paper_1_sx_v2/q2/ 0004_ibm_kawasaki_paper_1_sx_v2/q2/ckpts/MAEF &&     python receipt.py batch-benchmark-gate 0004_ibm_kawasaki_paper_1_sx_v2/q2/ 0004_ibm_kawasaki_paper_1_sx_v2/q2/ckpts/MSEE'"
      ]
     },
     "execution_count": 11,
     "metadata": {},
     "output_type": "execute_result"
    }
   ],
   "source": [
    "retrive_command"
   ]
  },
  {
   "cell_type": "code",
   "execution_count": null,
   "metadata": {},
   "outputs": [],
   "source": []
  }
 ],
 "metadata": {
  "kernelspec": {
   "display_name": "inspeqtor",
   "language": "python",
   "name": "python3"
  },
  "language_info": {
   "codemirror_mode": {
    "name": "ipython",
    "version": 3
   },
   "file_extension": ".py",
   "mimetype": "text/x-python",
   "name": "python",
   "nbconvert_exporter": "python",
   "pygments_lexer": "ipython3",
   "version": "3.11.9"
  }
 },
 "nbformat": 4,
 "nbformat_minor": 2
}
