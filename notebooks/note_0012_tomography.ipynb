{
 "cells": [
  {
   "cell_type": "code",
   "execution_count": 51,
   "metadata": {},
   "outputs": [],
   "source": [
    "import jax\n",
    "import jax.numpy as jnp\n",
    "import numpy as np\n",
    "\n",
    "from specq_jax.pulse import DragPulse, JaxBasedPulseSequence\n",
    "from specq_jax.core import get_simulator, rotating_transmon_hamiltonian\n",
    "from specq_dev.specq.qiskit import (\n",
    "    get_circuit,\n",
    "    get_ibm_service_and_backend,\n",
    "    get_qubit_properties_from_backend,\n",
    ")\n",
    "import specq_dev.specq.shared as specq\n",
    "from qiskit_experiments.library import ProcessTomography, InterleavedRB\n",
    "from qiskit.quantum_info import average_gate_fidelity, random_unitary, Operator"
   ]
  },
  {
   "cell_type": "code",
   "execution_count": 5,
   "metadata": {},
   "outputs": [],
   "source": [
    "instance = \"utokyo-kawasaki/keio-internal/keio-students\"\n",
    "backend_name = \"ibm_kawasaki\"\n",
    "\n",
    "service, backend = get_ibm_service_and_backend(instance, backend_name)"
   ]
  },
  {
   "cell_type": "code",
   "execution_count": 48,
   "metadata": {},
   "outputs": [
    {
     "data": {
      "text/plain": [
       "QubitInformationV3(unit='GHz', qubit_idx=0, anharmonicity=-0.20640003780600244, frequency=5.243549519417257, drive_strength=0.11218268029237063, date='2024-04-22 19:37:42')"
      ]
     },
     "execution_count": 48,
     "metadata": {},
     "output_type": "execute_result"
    }
   ],
   "source": []
  },
  {
   "cell_type": "code",
   "execution_count": 49,
   "metadata": {},
   "outputs": [
    {
     "name": "stderr",
     "output_type": "stream",
     "text": [
      "/Users/porametpathumsoot/miniconda3/envs/specq-jax/lib/python3.12/site-packages/jax/_src/numpy/array_methods.py:66: UserWarning: Explicitly requested dtype <class 'jax.numpy.float64'> requested in astype is not available, and will be truncated to dtype float32. To enable more dtypes, set the jax_enable_x64 configuration option or the JAX_ENABLE_X64 shell environment variable. See https://github.com/google/jax#current-gotchas for more.\n",
      "  return lax_numpy.astype(arr, dtype)\n"
     ]
    }
   ],
   "source": [
    "PATH = \"../tests/test_data/drag_0002/\"\n",
    "pulse_sequence = JaxBasedPulseSequence.from_file(PATH, pulses=[DragPulse])\n",
    "exp_config = specq.ExperimentConfigV3.from_file(PATH)\n",
    "qubit_info = get_qubit_properties_from_backend(backend, 0) # exp_config.qubits[0]\n",
    "t_eval = jnp.linspace(0, exp_config.sequence_duration_dt * exp_config.device_cycle_time_ns, exp_config.sequence_duration_dt)\n",
    "simulator = get_simulator(qubit_info, t_eval, rotating_transmon_hamiltonian)\n",
    "\n",
    "key = jax.random.PRNGKey(0)\n",
    "params = pulse_sequence.sample_params(key)\n",
    "waveform = pulse_sequence.get_waveform(params)\n",
    "\n",
    "unitaries = simulator(waveform)"
   ]
  },
  {
   "cell_type": "code",
   "execution_count": 8,
   "metadata": {},
   "outputs": [
    {
     "data": {
      "text/html": [
       "<pre style=\"word-wrap: normal;white-space: pre;background: #fff0;line-height: 1.1;font-family: &quot;Courier New&quot;,Courier,monospace\">   ┌────────────────┐\n",
       "q: ┤ pulse_sequence ├\n",
       "   └────────────────┘</pre>"
      ],
      "text/plain": [
       "   ┌────────────────┐\n",
       "q: ┤ pulse_sequence ├\n",
       "   └────────────────┘"
      ]
     },
     "execution_count": 8,
     "metadata": {},
     "output_type": "execute_result"
    }
   ],
   "source": [
    "qc = get_circuit(\n",
    "    initial_state=\"0\",\n",
    "    waveforms=waveform,\n",
    "    observable='Z',\n",
    "    backend=backend,\n",
    "    q_idx=0,\n",
    "    add_pulse=True,\n",
    "    change_basis=False,\n",
    "    add_measure=False,\n",
    "    enable_MCMD=False,\n",
    ")\n",
    "\n",
    "qc.draw()"
   ]
  },
  {
   "cell_type": "code",
   "execution_count": 9,
   "metadata": {},
   "outputs": [],
   "source": [
    "qpt = ProcessTomography(qc)"
   ]
  },
  {
   "cell_type": "code",
   "execution_count": 12,
   "metadata": {},
   "outputs": [],
   "source": [
    "result = qpt.run(backend=backend).block_for_results()"
   ]
  },
  {
   "cell_type": "code",
   "execution_count": 16,
   "metadata": {},
   "outputs": [
    {
     "name": "stdout",
     "output_type": "stream",
     "text": [
      "AnalysisResult\n",
      "- name: state\n",
      "- value: Choi([[ 0.02675 +0.j      , -0.028   -0.00625j , -0.043625-0.005875j,\n",
      "       -0.0035  -0.01225j ],\n",
      "      [-0.028   +0.00625j ,  0.97325 +0.j      ,  0.95175 +0.0265j  ,\n",
      "        0.043625+0.005875j],\n",
      "      [-0.043625+0.005875j,  0.95175 -0.0265j  ,  0.984   +0.j      ,\n",
      "        0.05325 -0.002j   ],\n",
      "      [-0.0035  +0.01225j ,  0.043625-0.005875j,  0.05325 +0.002j   ,\n",
      "        0.016   +0.j      ]],\n",
      "     input_dims=(2,), output_dims=(2,))\n",
      "- quality: unknown\n",
      "- extra: <11 items>\n",
      "- device_components: ['Q0']\n",
      "- verified: False\n",
      "AnalysisResult\n",
      "- name: completely_positive\n",
      "- value: True\n",
      "- quality: unknown\n",
      "- extra: <11 items>\n",
      "- device_components: ['Q0']\n",
      "- verified: False\n",
      "AnalysisResult\n",
      "- name: trace_preserving\n",
      "- value: False\n",
      "- quality: unknown\n",
      "- extra: <11 items>\n",
      "- device_components: ['Q0']\n",
      "- verified: False\n"
     ]
    }
   ],
   "source": [
    "# Print results\n",
    "for res in result.analysis_results():\n",
    "    print(res)"
   ]
  },
  {
   "cell_type": "code",
   "execution_count": 50,
   "metadata": {},
   "outputs": [
    {
     "data": {
      "text/plain": [
       "0.9772502442646612"
      ]
     },
     "execution_count": 50,
     "metadata": {},
     "output_type": "execute_result"
    }
   ],
   "source": [
    "average_gate_fidelity(result.analysis_results(0).value, Operator(np.array(unitaries[-1])))"
   ]
  },
  {
   "cell_type": "code",
   "execution_count": 53,
   "metadata": {},
   "outputs": [
    {
     "ename": "QiskitError",
     "evalue": "'Interleaved element circuit-260 could not be converted to Clifford.'",
     "output_type": "error",
     "traceback": [
      "\u001b[0;31m---------------------------------------------------------------------------\u001b[0m",
      "\u001b[0;31mCircuitError\u001b[0m                              Traceback (most recent call last)",
      "File \u001b[0;32m~/miniconda3/envs/specq-jax/lib/python3.12/site-packages/qiskit/quantum_info/operators/symplectic/clifford_circuits.py:164\u001b[0m, in \u001b[0;36m_append_operation\u001b[0;34m(clifford, operation, qargs)\u001b[0m\n\u001b[1;32m    163\u001b[0m \u001b[38;5;28;01mtry\u001b[39;00m:\n\u001b[0;32m--> 164\u001b[0m     matrix \u001b[38;5;241m=\u001b[39m \u001b[43mgate\u001b[49m\u001b[38;5;241;43m.\u001b[39;49m\u001b[43mto_matrix\u001b[49m\u001b[43m(\u001b[49m\u001b[43m)\u001b[49m\n\u001b[1;32m    165\u001b[0m     gate_cliff \u001b[38;5;241m=\u001b[39m Clifford\u001b[38;5;241m.\u001b[39mfrom_matrix(matrix)\n",
      "File \u001b[0;32m~/miniconda3/envs/specq-jax/lib/python3.12/site-packages/qiskit/circuit/gate.py:63\u001b[0m, in \u001b[0;36mGate.to_matrix\u001b[0;34m(self)\u001b[0m\n\u001b[1;32m     62\u001b[0m     \u001b[38;5;28;01mreturn\u001b[39;00m \u001b[38;5;28mself\u001b[39m\u001b[38;5;241m.\u001b[39m__array__(dtype\u001b[38;5;241m=\u001b[39m\u001b[38;5;28mcomplex\u001b[39m)\n\u001b[0;32m---> 63\u001b[0m \u001b[38;5;28;01mraise\u001b[39;00m CircuitError(\u001b[38;5;124mf\u001b[39m\u001b[38;5;124m\"\u001b[39m\u001b[38;5;124mto_matrix not defined for this \u001b[39m\u001b[38;5;132;01m{\u001b[39;00m\u001b[38;5;28mtype\u001b[39m(\u001b[38;5;28mself\u001b[39m)\u001b[38;5;132;01m}\u001b[39;00m\u001b[38;5;124m\"\u001b[39m)\n",
      "\u001b[0;31mCircuitError\u001b[0m: \"to_matrix not defined for this <class 'qiskit.circuit.gate.Gate'>\"",
      "\nThe above exception was the direct cause of the following exception:\n",
      "\u001b[0;31mQiskitError\u001b[0m                               Traceback (most recent call last)",
      "File \u001b[0;32m~/miniconda3/envs/specq-jax/lib/python3.12/site-packages/qiskit_experiments/library/randomized_benchmarking/interleaved_rb_experiment.py:111\u001b[0m, in \u001b[0;36mInterleavedRB.__init__\u001b[0;34m(self, interleaved_element, physical_qubits, lengths, backend, num_samples, seed, full_sampling, circuit_order)\u001b[0m\n\u001b[1;32m    110\u001b[0m \u001b[38;5;28;01mtry\u001b[39;00m:\n\u001b[0;32m--> 111\u001b[0m     interleaved_clifford \u001b[38;5;241m=\u001b[39m \u001b[43mClifford\u001b[49m\u001b[43m(\u001b[49m\u001b[43minterleaved_element\u001b[49m\u001b[43m)\u001b[49m\n\u001b[1;32m    112\u001b[0m \u001b[38;5;28;01mexcept\u001b[39;00m QiskitError \u001b[38;5;28;01mas\u001b[39;00m err:\n",
      "File \u001b[0;32m~/miniconda3/envs/specq-jax/lib/python3.12/site-packages/qiskit/quantum_info/operators/symplectic/clifford.py:162\u001b[0m, in \u001b[0;36mClifford.__init__\u001b[0;34m(self, data, validate, copy)\u001b[0m\n\u001b[1;32m    161\u001b[0m     num_qubits \u001b[38;5;241m=\u001b[39m data\u001b[38;5;241m.\u001b[39mnum_qubits\n\u001b[0;32m--> 162\u001b[0m     \u001b[38;5;28mself\u001b[39m\u001b[38;5;241m.\u001b[39mtableau \u001b[38;5;241m=\u001b[39m \u001b[43mClifford\u001b[49m\u001b[38;5;241;43m.\u001b[39;49m\u001b[43mfrom_circuit\u001b[49m\u001b[43m(\u001b[49m\u001b[43mdata\u001b[49m\u001b[43m)\u001b[49m\u001b[38;5;241m.\u001b[39mtableau\n\u001b[1;32m    164\u001b[0m \u001b[38;5;66;03m# Initialize StabilizerTable directly from the data\u001b[39;00m\n\u001b[1;32m    165\u001b[0m \u001b[38;5;28;01melse\u001b[39;00m:\n",
      "File \u001b[0;32m~/miniconda3/envs/specq-jax/lib/python3.12/site-packages/qiskit/quantum_info/operators/symplectic/clifford.py:664\u001b[0m, in \u001b[0;36mClifford.from_circuit\u001b[0;34m(circuit)\u001b[0m\n\u001b[1;32m    663\u001b[0m \u001b[38;5;28;01mif\u001b[39;00m \u001b[38;5;28misinstance\u001b[39m(circuit, QuantumCircuit):\n\u001b[0;32m--> 664\u001b[0m     clifford \u001b[38;5;241m=\u001b[39m \u001b[43m_append_circuit\u001b[49m\u001b[43m(\u001b[49m\u001b[43mclifford\u001b[49m\u001b[43m,\u001b[49m\u001b[43m \u001b[49m\u001b[43mcircuit\u001b[49m\u001b[43m)\u001b[49m\n\u001b[1;32m    665\u001b[0m \u001b[38;5;28;01melse\u001b[39;00m:\n",
      "File \u001b[0;32m~/miniconda3/envs/specq-jax/lib/python3.12/site-packages/qiskit/quantum_info/operators/symplectic/clifford_circuits.py:49\u001b[0m, in \u001b[0;36m_append_circuit\u001b[0;34m(clifford, circuit, qargs)\u001b[0m\n\u001b[1;32m     48\u001b[0m     new_qubits \u001b[38;5;241m=\u001b[39m [qargs[circuit\u001b[38;5;241m.\u001b[39mfind_bit(bit)\u001b[38;5;241m.\u001b[39mindex] \u001b[38;5;28;01mfor\u001b[39;00m bit \u001b[38;5;129;01min\u001b[39;00m instruction\u001b[38;5;241m.\u001b[39mqubits]\n\u001b[0;32m---> 49\u001b[0m     clifford \u001b[38;5;241m=\u001b[39m \u001b[43m_append_operation\u001b[49m\u001b[43m(\u001b[49m\u001b[43mclifford\u001b[49m\u001b[43m,\u001b[49m\u001b[43m \u001b[49m\u001b[43minstruction\u001b[49m\u001b[38;5;241;43m.\u001b[39;49m\u001b[43moperation\u001b[49m\u001b[43m,\u001b[49m\u001b[43m \u001b[49m\u001b[43mnew_qubits\u001b[49m\u001b[43m)\u001b[49m\n\u001b[1;32m     50\u001b[0m \u001b[38;5;28;01mreturn\u001b[39;00m clifford\n",
      "File \u001b[0;32m~/miniconda3/envs/specq-jax/lib/python3.12/site-packages/qiskit/quantum_info/operators/symplectic/clifford_circuits.py:170\u001b[0m, in \u001b[0;36m_append_operation\u001b[0;34m(clifford, operation, qargs)\u001b[0m\n\u001b[1;32m    169\u001b[0m \u001b[38;5;28;01mexcept\u001b[39;00m CircuitError \u001b[38;5;28;01mas\u001b[39;00m err:\n\u001b[0;32m--> 170\u001b[0m     \u001b[38;5;28;01mraise\u001b[39;00m QiskitError(\u001b[38;5;124mf\u001b[39m\u001b[38;5;124m\"\u001b[39m\u001b[38;5;124mCannot apply \u001b[39m\u001b[38;5;132;01m{\u001b[39;00mgate\u001b[38;5;241m.\u001b[39mname\u001b[38;5;132;01m}\u001b[39;00m\u001b[38;5;124m gate without to_matrix defined\u001b[39m\u001b[38;5;124m\"\u001b[39m) \u001b[38;5;28;01mfrom\u001b[39;00m \u001b[38;5;21;01merr\u001b[39;00m\n\u001b[1;32m    171\u001b[0m \u001b[38;5;28;01mexcept\u001b[39;00m QiskitError \u001b[38;5;28;01mas\u001b[39;00m err:\n",
      "\u001b[0;31mQiskitError\u001b[0m: 'Cannot apply pulse_sequence gate without to_matrix defined'",
      "\nThe above exception was the direct cause of the following exception:\n",
      "\u001b[0;31mQiskitError\u001b[0m                               Traceback (most recent call last)",
      "Cell \u001b[0;32mIn[53], line 1\u001b[0m\n\u001b[0;32m----> 1\u001b[0m iRB \u001b[38;5;241m=\u001b[39m \u001b[43mInterleavedRB\u001b[49m\u001b[43m(\u001b[49m\u001b[43mqc\u001b[49m\u001b[43m,\u001b[49m\u001b[43m \u001b[49m\u001b[43mphysical_qubits\u001b[49m\u001b[38;5;241;43m=\u001b[39;49m\u001b[43m[\u001b[49m\u001b[38;5;241;43m0\u001b[39;49m\u001b[43m]\u001b[49m\u001b[43m,\u001b[49m\u001b[43m \u001b[49m\u001b[43mlengths\u001b[49m\u001b[38;5;241;43m=\u001b[39;49m\u001b[43m[\u001b[49m\u001b[38;5;241;43m1\u001b[39;49m\u001b[43m]\u001b[49m\u001b[43m,\u001b[49m\u001b[43m \u001b[49m\u001b[43mbackend\u001b[49m\u001b[38;5;241;43m=\u001b[39;49m\u001b[43mbackend\u001b[49m\u001b[43m)\u001b[49m\n",
      "File \u001b[0;32m~/miniconda3/envs/specq-jax/lib/python3.12/site-packages/qiskit_experiments/library/randomized_benchmarking/interleaved_rb_experiment.py:113\u001b[0m, in \u001b[0;36mInterleavedRB.__init__\u001b[0;34m(self, interleaved_element, physical_qubits, lengths, backend, num_samples, seed, full_sampling, circuit_order)\u001b[0m\n\u001b[1;32m    111\u001b[0m     interleaved_clifford \u001b[38;5;241m=\u001b[39m Clifford(interleaved_element)\n\u001b[1;32m    112\u001b[0m \u001b[38;5;28;01mexcept\u001b[39;00m QiskitError \u001b[38;5;28;01mas\u001b[39;00m err:\n\u001b[0;32m--> 113\u001b[0m     \u001b[38;5;28;01mraise\u001b[39;00m QiskitError(\n\u001b[1;32m    114\u001b[0m         \u001b[38;5;124mf\u001b[39m\u001b[38;5;124m\"\u001b[39m\u001b[38;5;124mInterleaved element \u001b[39m\u001b[38;5;132;01m{\u001b[39;00minterleaved_element\u001b[38;5;241m.\u001b[39mname\u001b[38;5;132;01m}\u001b[39;00m\u001b[38;5;124m could not be converted to Clifford.\u001b[39m\u001b[38;5;124m\"\u001b[39m\n\u001b[1;32m    115\u001b[0m     ) \u001b[38;5;28;01mfrom\u001b[39;00m \u001b[38;5;21;01merr\u001b[39;00m\n\u001b[1;32m    116\u001b[0m \u001b[38;5;66;03m# - validate delays in interleaved_element\u001b[39;00m\n\u001b[1;32m    117\u001b[0m delay_ops \u001b[38;5;241m=\u001b[39m []\n",
      "\u001b[0;31mQiskitError\u001b[0m: 'Interleaved element circuit-260 could not be converted to Clifford.'"
     ]
    }
   ],
   "source": [
    "iRB = InterleavedRB(qc, physical_qubits=[0], lengths=[1], backend=backend)"
   ]
  }
 ],
 "metadata": {
  "kernelspec": {
   "display_name": "specq-jax",
   "language": "python",
   "name": "python3"
  },
  "language_info": {
   "codemirror_mode": {
    "name": "ipython",
    "version": 3
   },
   "file_extension": ".py",
   "mimetype": "text/x-python",
   "name": "python",
   "nbconvert_exporter": "python",
   "pygments_lexer": "ipython3",
   "version": "3.12.2"
  }
 },
 "nbformat": 4,
 "nbformat_minor": 2
}
