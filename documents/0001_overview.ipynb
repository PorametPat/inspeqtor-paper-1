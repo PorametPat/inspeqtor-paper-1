{
 "cells": [
  {
   "cell_type": "code",
   "execution_count": null,
   "metadata": {},
   "outputs": [],
   "source": [
    "import specq_dev as sqd\n",
    "import specq_jax as sqj"
   ]
  }
 ],
 "metadata": {
  "kernelspec": {
   "display_name": "specq-jax",
   "language": "python",
   "name": "python3"
  },
  "language_info": {
   "name": "python",
   "version": "3.11.9"
  }
 },
 "nbformat": 4,
 "nbformat_minor": 2
}
